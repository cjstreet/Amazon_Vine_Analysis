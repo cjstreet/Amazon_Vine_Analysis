{
 "cells": [
  {
   "cell_type": "markdown",
   "id": "76065ddf",
   "metadata": {},
   "source": [
    "## Vine Review Analysis by CStreet"
   ]
  },
  {
   "cell_type": "markdown",
   "id": "2af726a3",
   "metadata": {},
   "source": [
    "Import Dependencies"
   ]
  },
  {
   "cell_type": "code",
   "execution_count": 1,
   "id": "205fdf92",
   "metadata": {},
   "outputs": [],
   "source": [
    "import pandas as pd\n",
    "import os"
   ]
  },
  {
   "cell_type": "code",
   "execution_count": 2,
   "id": "8dd851d5",
   "metadata": {},
   "outputs": [],
   "source": [
    "vine_data = os.path.join('vine_table.csv')\n",
    "vine_df = pd.read_csv(vine_data)"
   ]
  },
  {
   "cell_type": "code",
   "execution_count": 3,
   "id": "d49391d6",
   "metadata": {
    "scrolled": true
   },
   "outputs": [
    {
     "data": {
      "text/html": [
       "<div>\n",
       "<style scoped>\n",
       "    .dataframe tbody tr th:only-of-type {\n",
       "        vertical-align: middle;\n",
       "    }\n",
       "\n",
       "    .dataframe tbody tr th {\n",
       "        vertical-align: top;\n",
       "    }\n",
       "\n",
       "    .dataframe thead th {\n",
       "        text-align: right;\n",
       "    }\n",
       "</style>\n",
       "<table border=\"1\" class=\"dataframe\">\n",
       "  <thead>\n",
       "    <tr style=\"text-align: right;\">\n",
       "      <th></th>\n",
       "      <th>review_id</th>\n",
       "      <th>star_rating</th>\n",
       "      <th>helpful_votes</th>\n",
       "      <th>total_votes</th>\n",
       "      <th>vine</th>\n",
       "      <th>verified_purchase</th>\n",
       "    </tr>\n",
       "  </thead>\n",
       "  <tbody>\n",
       "    <tr>\n",
       "      <th>0</th>\n",
       "      <td>R3W4P9UBGNGH1U</td>\n",
       "      <td>2.0</td>\n",
       "      <td>1.0</td>\n",
       "      <td>3.0</td>\n",
       "      <td>N</td>\n",
       "      <td>Y</td>\n",
       "    </tr>\n",
       "    <tr>\n",
       "      <th>1</th>\n",
       "      <td>R15V54KBMTQWAY</td>\n",
       "      <td>4.0</td>\n",
       "      <td>0.0</td>\n",
       "      <td>0.0</td>\n",
       "      <td>N</td>\n",
       "      <td>N</td>\n",
       "    </tr>\n",
       "    <tr>\n",
       "      <th>2</th>\n",
       "      <td>RY8I449HNXSVF</td>\n",
       "      <td>5.0</td>\n",
       "      <td>0.0</td>\n",
       "      <td>0.0</td>\n",
       "      <td>N</td>\n",
       "      <td>Y</td>\n",
       "    </tr>\n",
       "    <tr>\n",
       "      <th>3</th>\n",
       "      <td>R18TLJYCKJFLSR</td>\n",
       "      <td>5.0</td>\n",
       "      <td>0.0</td>\n",
       "      <td>0.0</td>\n",
       "      <td>N</td>\n",
       "      <td>Y</td>\n",
       "    </tr>\n",
       "    <tr>\n",
       "      <th>4</th>\n",
       "      <td>R1NK26SWS53B8Q</td>\n",
       "      <td>5.0</td>\n",
       "      <td>0.0</td>\n",
       "      <td>0.0</td>\n",
       "      <td>N</td>\n",
       "      <td>Y</td>\n",
       "    </tr>\n",
       "  </tbody>\n",
       "</table>\n",
       "</div>"
      ],
      "text/plain": [
       "        review_id  star_rating  helpful_votes  total_votes vine  \\\n",
       "0  R3W4P9UBGNGH1U          2.0            1.0          3.0    N   \n",
       "1  R15V54KBMTQWAY          4.0            0.0          0.0    N   \n",
       "2   RY8I449HNXSVF          5.0            0.0          0.0    N   \n",
       "3  R18TLJYCKJFLSR          5.0            0.0          0.0    N   \n",
       "4  R1NK26SWS53B8Q          5.0            0.0          0.0    N   \n",
       "\n",
       "  verified_purchase  \n",
       "0                 Y  \n",
       "1                 N  \n",
       "2                 Y  \n",
       "3                 Y  \n",
       "4                 Y  "
      ]
     },
     "execution_count": 3,
     "metadata": {},
     "output_type": "execute_result"
    }
   ],
   "source": [
    "vine_df.head()"
   ]
  },
  {
   "cell_type": "markdown",
   "id": "48d6bec6",
   "metadata": {},
   "source": [
    "### Filter the data and create a new DataFrame or table to retrieve all the rows where the total_votes count is equal to or greater than 20 to pick reviews that are more likely to be helpful and to avoid having division by zero errors later on."
   ]
  },
  {
   "cell_type": "code",
   "execution_count": 5,
   "id": "b9878b1e",
   "metadata": {},
   "outputs": [],
   "source": [
    "#filtered dataframe\n",
    "vine_filtered_df = vine_df.query('total_votes >= 20')"
   ]
  },
  {
   "cell_type": "code",
   "execution_count": 6,
   "id": "50bd47ee",
   "metadata": {},
   "outputs": [
    {
     "data": {
      "text/html": [
       "<div>\n",
       "<style scoped>\n",
       "    .dataframe tbody tr th:only-of-type {\n",
       "        vertical-align: middle;\n",
       "    }\n",
       "\n",
       "    .dataframe tbody tr th {\n",
       "        vertical-align: top;\n",
       "    }\n",
       "\n",
       "    .dataframe thead th {\n",
       "        text-align: right;\n",
       "    }\n",
       "</style>\n",
       "<table border=\"1\" class=\"dataframe\">\n",
       "  <thead>\n",
       "    <tr style=\"text-align: right;\">\n",
       "      <th></th>\n",
       "      <th>review_id</th>\n",
       "      <th>star_rating</th>\n",
       "      <th>helpful_votes</th>\n",
       "      <th>total_votes</th>\n",
       "      <th>vine</th>\n",
       "      <th>verified_purchase</th>\n",
       "    </tr>\n",
       "  </thead>\n",
       "  <tbody>\n",
       "    <tr>\n",
       "      <th>116</th>\n",
       "      <td>R2WOW0TURNXB26</td>\n",
       "      <td>3.0</td>\n",
       "      <td>54.0</td>\n",
       "      <td>59.0</td>\n",
       "      <td>N</td>\n",
       "      <td>Y</td>\n",
       "    </tr>\n",
       "    <tr>\n",
       "      <th>197</th>\n",
       "      <td>R13VL62Y2HBQ0B</td>\n",
       "      <td>5.0</td>\n",
       "      <td>15.0</td>\n",
       "      <td>21.0</td>\n",
       "      <td>N</td>\n",
       "      <td>Y</td>\n",
       "    </tr>\n",
       "    <tr>\n",
       "      <th>307</th>\n",
       "      <td>R22G55KAPZKJQV</td>\n",
       "      <td>4.0</td>\n",
       "      <td>20.0</td>\n",
       "      <td>21.0</td>\n",
       "      <td>N</td>\n",
       "      <td>Y</td>\n",
       "    </tr>\n",
       "    <tr>\n",
       "      <th>1012</th>\n",
       "      <td>R1610PGTJS7G3N</td>\n",
       "      <td>2.0</td>\n",
       "      <td>28.0</td>\n",
       "      <td>44.0</td>\n",
       "      <td>N</td>\n",
       "      <td>Y</td>\n",
       "    </tr>\n",
       "    <tr>\n",
       "      <th>2265</th>\n",
       "      <td>RLQL04BL0QXOJ</td>\n",
       "      <td>4.0</td>\n",
       "      <td>45.0</td>\n",
       "      <td>47.0</td>\n",
       "      <td>N</td>\n",
       "      <td>Y</td>\n",
       "    </tr>\n",
       "  </tbody>\n",
       "</table>\n",
       "</div>"
      ],
      "text/plain": [
       "           review_id  star_rating  helpful_votes  total_votes vine  \\\n",
       "116   R2WOW0TURNXB26          3.0           54.0         59.0    N   \n",
       "197   R13VL62Y2HBQ0B          5.0           15.0         21.0    N   \n",
       "307   R22G55KAPZKJQV          4.0           20.0         21.0    N   \n",
       "1012  R1610PGTJS7G3N          2.0           28.0         44.0    N   \n",
       "2265   RLQL04BL0QXOJ          4.0           45.0         47.0    N   \n",
       "\n",
       "     verified_purchase  \n",
       "116                  Y  \n",
       "197                  Y  \n",
       "307                  Y  \n",
       "1012                 Y  \n",
       "2265                 Y  "
      ]
     },
     "execution_count": 6,
     "metadata": {},
     "output_type": "execute_result"
    }
   ],
   "source": [
    "vine_filtered_df.head()"
   ]
  },
  {
   "cell_type": "markdown",
   "id": "bc364994",
   "metadata": {},
   "source": [
    "### Filter the new DataFrame or table created in Step 1 and create a new DataFrame or table to retrieve all the rows where the number of helpful_votes divided by total_votes is equal to or greater than 50%."
   ]
  },
  {
   "cell_type": "code",
   "execution_count": 7,
   "id": "1d05a121",
   "metadata": {},
   "outputs": [],
   "source": [
    "vine_filtered_df = vine_filtered_df.query('helpful_votes/total_votes >= .50')"
   ]
  },
  {
   "cell_type": "code",
   "execution_count": 8,
   "id": "3a3c3899",
   "metadata": {},
   "outputs": [
    {
     "data": {
      "text/html": [
       "<div>\n",
       "<style scoped>\n",
       "    .dataframe tbody tr th:only-of-type {\n",
       "        vertical-align: middle;\n",
       "    }\n",
       "\n",
       "    .dataframe tbody tr th {\n",
       "        vertical-align: top;\n",
       "    }\n",
       "\n",
       "    .dataframe thead th {\n",
       "        text-align: right;\n",
       "    }\n",
       "</style>\n",
       "<table border=\"1\" class=\"dataframe\">\n",
       "  <thead>\n",
       "    <tr style=\"text-align: right;\">\n",
       "      <th></th>\n",
       "      <th>review_id</th>\n",
       "      <th>star_rating</th>\n",
       "      <th>helpful_votes</th>\n",
       "      <th>total_votes</th>\n",
       "      <th>vine</th>\n",
       "      <th>verified_purchase</th>\n",
       "    </tr>\n",
       "  </thead>\n",
       "  <tbody>\n",
       "    <tr>\n",
       "      <th>116</th>\n",
       "      <td>R2WOW0TURNXB26</td>\n",
       "      <td>3.0</td>\n",
       "      <td>54.0</td>\n",
       "      <td>59.0</td>\n",
       "      <td>N</td>\n",
       "      <td>Y</td>\n",
       "    </tr>\n",
       "    <tr>\n",
       "      <th>197</th>\n",
       "      <td>R13VL62Y2HBQ0B</td>\n",
       "      <td>5.0</td>\n",
       "      <td>15.0</td>\n",
       "      <td>21.0</td>\n",
       "      <td>N</td>\n",
       "      <td>Y</td>\n",
       "    </tr>\n",
       "    <tr>\n",
       "      <th>307</th>\n",
       "      <td>R22G55KAPZKJQV</td>\n",
       "      <td>4.0</td>\n",
       "      <td>20.0</td>\n",
       "      <td>21.0</td>\n",
       "      <td>N</td>\n",
       "      <td>Y</td>\n",
       "    </tr>\n",
       "    <tr>\n",
       "      <th>1012</th>\n",
       "      <td>R1610PGTJS7G3N</td>\n",
       "      <td>2.0</td>\n",
       "      <td>28.0</td>\n",
       "      <td>44.0</td>\n",
       "      <td>N</td>\n",
       "      <td>Y</td>\n",
       "    </tr>\n",
       "    <tr>\n",
       "      <th>2265</th>\n",
       "      <td>RLQL04BL0QXOJ</td>\n",
       "      <td>4.0</td>\n",
       "      <td>45.0</td>\n",
       "      <td>47.0</td>\n",
       "      <td>N</td>\n",
       "      <td>Y</td>\n",
       "    </tr>\n",
       "  </tbody>\n",
       "</table>\n",
       "</div>"
      ],
      "text/plain": [
       "           review_id  star_rating  helpful_votes  total_votes vine  \\\n",
       "116   R2WOW0TURNXB26          3.0           54.0         59.0    N   \n",
       "197   R13VL62Y2HBQ0B          5.0           15.0         21.0    N   \n",
       "307   R22G55KAPZKJQV          4.0           20.0         21.0    N   \n",
       "1012  R1610PGTJS7G3N          2.0           28.0         44.0    N   \n",
       "2265   RLQL04BL0QXOJ          4.0           45.0         47.0    N   \n",
       "\n",
       "     verified_purchase  \n",
       "116                  Y  \n",
       "197                  Y  \n",
       "307                  Y  \n",
       "1012                 Y  \n",
       "2265                 Y  "
      ]
     },
     "execution_count": 8,
     "metadata": {},
     "output_type": "execute_result"
    }
   ],
   "source": [
    "vine_filtered_df.head()"
   ]
  },
  {
   "cell_type": "markdown",
   "id": "3c1802f2",
   "metadata": {},
   "source": [
    "### Filter the DataFrame or table created in Step 2, and create a new DataFrame or table that retrieves all the rows where a review was written as part of the Vine program (paid), vine == 'Y'."
   ]
  },
  {
   "cell_type": "code",
   "execution_count": 11,
   "id": "19196a94",
   "metadata": {},
   "outputs": [
    {
     "data": {
      "text/plain": [
       "review_id             object\n",
       "star_rating          float64\n",
       "helpful_votes        float64\n",
       "total_votes          float64\n",
       "vine                  object\n",
       "verified_purchase     object\n",
       "dtype: object"
      ]
     },
     "execution_count": 11,
     "metadata": {},
     "output_type": "execute_result"
    }
   ],
   "source": [
    "vine_filtered_df.dtypes"
   ]
  },
  {
   "cell_type": "code",
   "execution_count": 18,
   "id": "eeaee923",
   "metadata": {},
   "outputs": [],
   "source": [
    "vine_paid_df = vine_filtered_df[vine_filtered_df[\"vine\"] == \"Y\"]"
   ]
  },
  {
   "cell_type": "code",
   "execution_count": 20,
   "id": "6a23c719",
   "metadata": {},
   "outputs": [
    {
     "data": {
      "text/html": [
       "<div>\n",
       "<style scoped>\n",
       "    .dataframe tbody tr th:only-of-type {\n",
       "        vertical-align: middle;\n",
       "    }\n",
       "\n",
       "    .dataframe tbody tr th {\n",
       "        vertical-align: top;\n",
       "    }\n",
       "\n",
       "    .dataframe thead th {\n",
       "        text-align: right;\n",
       "    }\n",
       "</style>\n",
       "<table border=\"1\" class=\"dataframe\">\n",
       "  <thead>\n",
       "    <tr style=\"text-align: right;\">\n",
       "      <th></th>\n",
       "      <th>review_id</th>\n",
       "      <th>star_rating</th>\n",
       "      <th>helpful_votes</th>\n",
       "      <th>total_votes</th>\n",
       "      <th>vine</th>\n",
       "      <th>verified_purchase</th>\n",
       "    </tr>\n",
       "  </thead>\n",
       "  <tbody>\n",
       "    <tr>\n",
       "      <th>8819452</th>\n",
       "      <td>R1GPYXSB76U4QF</td>\n",
       "      <td>3.0</td>\n",
       "      <td>251.0</td>\n",
       "      <td>266.0</td>\n",
       "      <td>Y</td>\n",
       "      <td>N</td>\n",
       "    </tr>\n",
       "    <tr>\n",
       "      <th>8819520</th>\n",
       "      <td>R1S5PEW9FYV4Y7</td>\n",
       "      <td>5.0</td>\n",
       "      <td>56.0</td>\n",
       "      <td>57.0</td>\n",
       "      <td>Y</td>\n",
       "      <td>N</td>\n",
       "    </tr>\n",
       "    <tr>\n",
       "      <th>8819534</th>\n",
       "      <td>RLIMMC9RD6G6O</td>\n",
       "      <td>5.0</td>\n",
       "      <td>415.0</td>\n",
       "      <td>423.0</td>\n",
       "      <td>Y</td>\n",
       "      <td>N</td>\n",
       "    </tr>\n",
       "    <tr>\n",
       "      <th>8819775</th>\n",
       "      <td>RVKT49SXK12LV</td>\n",
       "      <td>5.0</td>\n",
       "      <td>377.0</td>\n",
       "      <td>387.0</td>\n",
       "      <td>Y</td>\n",
       "      <td>N</td>\n",
       "    </tr>\n",
       "    <tr>\n",
       "      <th>8847570</th>\n",
       "      <td>R1T2GB0YIQ90YH</td>\n",
       "      <td>3.0</td>\n",
       "      <td>85.0</td>\n",
       "      <td>94.0</td>\n",
       "      <td>Y</td>\n",
       "      <td>N</td>\n",
       "    </tr>\n",
       "    <tr>\n",
       "      <th>8880631</th>\n",
       "      <td>R28IX4P4PWVELW</td>\n",
       "      <td>5.0</td>\n",
       "      <td>42.0</td>\n",
       "      <td>47.0</td>\n",
       "      <td>Y</td>\n",
       "      <td>N</td>\n",
       "    </tr>\n",
       "    <tr>\n",
       "      <th>8883288</th>\n",
       "      <td>RHCQE4GXO2USK</td>\n",
       "      <td>3.0</td>\n",
       "      <td>13.0</td>\n",
       "      <td>23.0</td>\n",
       "      <td>Y</td>\n",
       "      <td>N</td>\n",
       "    </tr>\n",
       "    <tr>\n",
       "      <th>8885056</th>\n",
       "      <td>R2U3KAROWWVDDG</td>\n",
       "      <td>4.0</td>\n",
       "      <td>26.0</td>\n",
       "      <td>26.0</td>\n",
       "      <td>Y</td>\n",
       "      <td>N</td>\n",
       "    </tr>\n",
       "    <tr>\n",
       "      <th>8885687</th>\n",
       "      <td>R1M4QZ4UUNG55D</td>\n",
       "      <td>5.0</td>\n",
       "      <td>141.0</td>\n",
       "      <td>155.0</td>\n",
       "      <td>Y</td>\n",
       "      <td>Y</td>\n",
       "    </tr>\n",
       "    <tr>\n",
       "      <th>8887121</th>\n",
       "      <td>R2HFFG2O78SOC4</td>\n",
       "      <td>4.0</td>\n",
       "      <td>269.0</td>\n",
       "      <td>274.0</td>\n",
       "      <td>Y</td>\n",
       "      <td>N</td>\n",
       "    </tr>\n",
       "    <tr>\n",
       "      <th>8887352</th>\n",
       "      <td>R1S2HIHNB0FJC0</td>\n",
       "      <td>2.0</td>\n",
       "      <td>180.0</td>\n",
       "      <td>196.0</td>\n",
       "      <td>Y</td>\n",
       "      <td>N</td>\n",
       "    </tr>\n",
       "    <tr>\n",
       "      <th>8887434</th>\n",
       "      <td>R3ADVLGTBP0TNX</td>\n",
       "      <td>4.0</td>\n",
       "      <td>36.0</td>\n",
       "      <td>43.0</td>\n",
       "      <td>Y</td>\n",
       "      <td>N</td>\n",
       "    </tr>\n",
       "    <tr>\n",
       "      <th>8910450</th>\n",
       "      <td>R9OB51UW8R4EW</td>\n",
       "      <td>3.0</td>\n",
       "      <td>13.0</td>\n",
       "      <td>23.0</td>\n",
       "      <td>Y</td>\n",
       "      <td>N</td>\n",
       "    </tr>\n",
       "    <tr>\n",
       "      <th>8912079</th>\n",
       "      <td>R3OT72XT5WKCYN</td>\n",
       "      <td>5.0</td>\n",
       "      <td>27.0</td>\n",
       "      <td>40.0</td>\n",
       "      <td>Y</td>\n",
       "      <td>N</td>\n",
       "    </tr>\n",
       "    <tr>\n",
       "      <th>8912399</th>\n",
       "      <td>R2Y9JUXDM65FZW</td>\n",
       "      <td>2.0</td>\n",
       "      <td>17.0</td>\n",
       "      <td>30.0</td>\n",
       "      <td>Y</td>\n",
       "      <td>N</td>\n",
       "    </tr>\n",
       "  </tbody>\n",
       "</table>\n",
       "</div>"
      ],
      "text/plain": [
       "              review_id  star_rating  helpful_votes  total_votes vine  \\\n",
       "8819452  R1GPYXSB76U4QF          3.0          251.0        266.0    Y   \n",
       "8819520  R1S5PEW9FYV4Y7          5.0           56.0         57.0    Y   \n",
       "8819534   RLIMMC9RD6G6O          5.0          415.0        423.0    Y   \n",
       "8819775   RVKT49SXK12LV          5.0          377.0        387.0    Y   \n",
       "8847570  R1T2GB0YIQ90YH          3.0           85.0         94.0    Y   \n",
       "8880631  R28IX4P4PWVELW          5.0           42.0         47.0    Y   \n",
       "8883288   RHCQE4GXO2USK          3.0           13.0         23.0    Y   \n",
       "8885056  R2U3KAROWWVDDG          4.0           26.0         26.0    Y   \n",
       "8885687  R1M4QZ4UUNG55D          5.0          141.0        155.0    Y   \n",
       "8887121  R2HFFG2O78SOC4          4.0          269.0        274.0    Y   \n",
       "8887352  R1S2HIHNB0FJC0          2.0          180.0        196.0    Y   \n",
       "8887434  R3ADVLGTBP0TNX          4.0           36.0         43.0    Y   \n",
       "8910450   R9OB51UW8R4EW          3.0           13.0         23.0    Y   \n",
       "8912079  R3OT72XT5WKCYN          5.0           27.0         40.0    Y   \n",
       "8912399  R2Y9JUXDM65FZW          2.0           17.0         30.0    Y   \n",
       "\n",
       "        verified_purchase  \n",
       "8819452                 N  \n",
       "8819520                 N  \n",
       "8819534                 N  \n",
       "8819775                 N  \n",
       "8847570                 N  \n",
       "8880631                 N  \n",
       "8883288                 N  \n",
       "8885056                 N  \n",
       "8885687                 Y  \n",
       "8887121                 N  \n",
       "8887352                 N  \n",
       "8887434                 N  \n",
       "8910450                 N  \n",
       "8912079                 N  \n",
       "8912399                 N  "
      ]
     },
     "execution_count": 20,
     "metadata": {},
     "output_type": "execute_result"
    }
   ],
   "source": [
    "vine_paid_df.tail(15)"
   ]
  },
  {
   "cell_type": "markdown",
   "id": "651c1629",
   "metadata": {},
   "source": [
    "### Retrieve all the rows where the review was not part of the Vine program (unpaid)"
   ]
  },
  {
   "cell_type": "code",
   "execution_count": 21,
   "id": "483b89d5",
   "metadata": {},
   "outputs": [],
   "source": [
    "vine_notPaid_df = vine_filtered_df[vine_filtered_df[\"vine\"] == \"N\"]"
   ]
  },
  {
   "cell_type": "code",
   "execution_count": 22,
   "id": "df536388",
   "metadata": {},
   "outputs": [
    {
     "data": {
      "text/html": [
       "<div>\n",
       "<style scoped>\n",
       "    .dataframe tbody tr th:only-of-type {\n",
       "        vertical-align: middle;\n",
       "    }\n",
       "\n",
       "    .dataframe tbody tr th {\n",
       "        vertical-align: top;\n",
       "    }\n",
       "\n",
       "    .dataframe thead th {\n",
       "        text-align: right;\n",
       "    }\n",
       "</style>\n",
       "<table border=\"1\" class=\"dataframe\">\n",
       "  <thead>\n",
       "    <tr style=\"text-align: right;\">\n",
       "      <th></th>\n",
       "      <th>review_id</th>\n",
       "      <th>star_rating</th>\n",
       "      <th>helpful_votes</th>\n",
       "      <th>total_votes</th>\n",
       "      <th>vine</th>\n",
       "      <th>verified_purchase</th>\n",
       "    </tr>\n",
       "  </thead>\n",
       "  <tbody>\n",
       "    <tr>\n",
       "      <th>116</th>\n",
       "      <td>R2WOW0TURNXB26</td>\n",
       "      <td>3.0</td>\n",
       "      <td>54.0</td>\n",
       "      <td>59.0</td>\n",
       "      <td>N</td>\n",
       "      <td>Y</td>\n",
       "    </tr>\n",
       "    <tr>\n",
       "      <th>197</th>\n",
       "      <td>R13VL62Y2HBQ0B</td>\n",
       "      <td>5.0</td>\n",
       "      <td>15.0</td>\n",
       "      <td>21.0</td>\n",
       "      <td>N</td>\n",
       "      <td>Y</td>\n",
       "    </tr>\n",
       "    <tr>\n",
       "      <th>307</th>\n",
       "      <td>R22G55KAPZKJQV</td>\n",
       "      <td>4.0</td>\n",
       "      <td>20.0</td>\n",
       "      <td>21.0</td>\n",
       "      <td>N</td>\n",
       "      <td>Y</td>\n",
       "    </tr>\n",
       "    <tr>\n",
       "      <th>1012</th>\n",
       "      <td>R1610PGTJS7G3N</td>\n",
       "      <td>2.0</td>\n",
       "      <td>28.0</td>\n",
       "      <td>44.0</td>\n",
       "      <td>N</td>\n",
       "      <td>Y</td>\n",
       "    </tr>\n",
       "    <tr>\n",
       "      <th>2265</th>\n",
       "      <td>RLQL04BL0QXOJ</td>\n",
       "      <td>4.0</td>\n",
       "      <td>45.0</td>\n",
       "      <td>47.0</td>\n",
       "      <td>N</td>\n",
       "      <td>Y</td>\n",
       "    </tr>\n",
       "    <tr>\n",
       "      <th>2731</th>\n",
       "      <td>R2AYJHH8WJNGAU</td>\n",
       "      <td>4.0</td>\n",
       "      <td>98.0</td>\n",
       "      <td>104.0</td>\n",
       "      <td>N</td>\n",
       "      <td>Y</td>\n",
       "    </tr>\n",
       "    <tr>\n",
       "      <th>3007</th>\n",
       "      <td>R111DJA10Y6CMU</td>\n",
       "      <td>5.0</td>\n",
       "      <td>26.0</td>\n",
       "      <td>39.0</td>\n",
       "      <td>N</td>\n",
       "      <td>Y</td>\n",
       "    </tr>\n",
       "    <tr>\n",
       "      <th>3164</th>\n",
       "      <td>R2EE2TR4MRDV0U</td>\n",
       "      <td>5.0</td>\n",
       "      <td>53.0</td>\n",
       "      <td>59.0</td>\n",
       "      <td>N</td>\n",
       "      <td>Y</td>\n",
       "    </tr>\n",
       "    <tr>\n",
       "      <th>3368</th>\n",
       "      <td>RD4A80I5JDHED</td>\n",
       "      <td>5.0</td>\n",
       "      <td>69.0</td>\n",
       "      <td>77.0</td>\n",
       "      <td>N</td>\n",
       "      <td>N</td>\n",
       "    </tr>\n",
       "    <tr>\n",
       "      <th>3376</th>\n",
       "      <td>R1GU6IYZQWQE8X</td>\n",
       "      <td>2.0</td>\n",
       "      <td>24.0</td>\n",
       "      <td>25.0</td>\n",
       "      <td>N</td>\n",
       "      <td>Y</td>\n",
       "    </tr>\n",
       "    <tr>\n",
       "      <th>3706</th>\n",
       "      <td>RZOPM62JMW97V</td>\n",
       "      <td>2.0</td>\n",
       "      <td>103.0</td>\n",
       "      <td>108.0</td>\n",
       "      <td>N</td>\n",
       "      <td>Y</td>\n",
       "    </tr>\n",
       "    <tr>\n",
       "      <th>5049</th>\n",
       "      <td>R1D3NR5GREEXXJ</td>\n",
       "      <td>5.0</td>\n",
       "      <td>57.0</td>\n",
       "      <td>58.0</td>\n",
       "      <td>N</td>\n",
       "      <td>Y</td>\n",
       "    </tr>\n",
       "    <tr>\n",
       "      <th>5162</th>\n",
       "      <td>R24BMEHX5EWGEY</td>\n",
       "      <td>2.0</td>\n",
       "      <td>26.0</td>\n",
       "      <td>30.0</td>\n",
       "      <td>N</td>\n",
       "      <td>Y</td>\n",
       "    </tr>\n",
       "    <tr>\n",
       "      <th>5185</th>\n",
       "      <td>R2WYKBQS8OR08O</td>\n",
       "      <td>5.0</td>\n",
       "      <td>168.0</td>\n",
       "      <td>176.0</td>\n",
       "      <td>N</td>\n",
       "      <td>Y</td>\n",
       "    </tr>\n",
       "    <tr>\n",
       "      <th>5777</th>\n",
       "      <td>R3DL0Y1KWYLD5X</td>\n",
       "      <td>5.0</td>\n",
       "      <td>36.0</td>\n",
       "      <td>37.0</td>\n",
       "      <td>N</td>\n",
       "      <td>Y</td>\n",
       "    </tr>\n",
       "  </tbody>\n",
       "</table>\n",
       "</div>"
      ],
      "text/plain": [
       "           review_id  star_rating  helpful_votes  total_votes vine  \\\n",
       "116   R2WOW0TURNXB26          3.0           54.0         59.0    N   \n",
       "197   R13VL62Y2HBQ0B          5.0           15.0         21.0    N   \n",
       "307   R22G55KAPZKJQV          4.0           20.0         21.0    N   \n",
       "1012  R1610PGTJS7G3N          2.0           28.0         44.0    N   \n",
       "2265   RLQL04BL0QXOJ          4.0           45.0         47.0    N   \n",
       "2731  R2AYJHH8WJNGAU          4.0           98.0        104.0    N   \n",
       "3007  R111DJA10Y6CMU          5.0           26.0         39.0    N   \n",
       "3164  R2EE2TR4MRDV0U          5.0           53.0         59.0    N   \n",
       "3368   RD4A80I5JDHED          5.0           69.0         77.0    N   \n",
       "3376  R1GU6IYZQWQE8X          2.0           24.0         25.0    N   \n",
       "3706   RZOPM62JMW97V          2.0          103.0        108.0    N   \n",
       "5049  R1D3NR5GREEXXJ          5.0           57.0         58.0    N   \n",
       "5162  R24BMEHX5EWGEY          2.0           26.0         30.0    N   \n",
       "5185  R2WYKBQS8OR08O          5.0          168.0        176.0    N   \n",
       "5777  R3DL0Y1KWYLD5X          5.0           36.0         37.0    N   \n",
       "\n",
       "     verified_purchase  \n",
       "116                  Y  \n",
       "197                  Y  \n",
       "307                  Y  \n",
       "1012                 Y  \n",
       "2265                 Y  \n",
       "2731                 Y  \n",
       "3007                 Y  \n",
       "3164                 Y  \n",
       "3368                 N  \n",
       "3376                 Y  \n",
       "3706                 Y  \n",
       "5049                 Y  \n",
       "5162                 Y  \n",
       "5185                 Y  \n",
       "5777                 Y  "
      ]
     },
     "execution_count": 22,
     "metadata": {},
     "output_type": "execute_result"
    }
   ],
   "source": [
    "vine_notPaid_df.head(15)"
   ]
  },
  {
   "cell_type": "markdown",
   "id": "1b205340",
   "metadata": {},
   "source": [
    "### The total number of reviews, the number of 5-star reviews, and the percentage of 5-star reviews for the two types of review (paid vs unpaid)"
   ]
  },
  {
   "cell_type": "markdown",
   "id": "8e489995",
   "metadata": {},
   "source": [
    "## PAID"
   ]
  },
  {
   "cell_type": "code",
   "execution_count": 29,
   "id": "e70a48b4",
   "metadata": {},
   "outputs": [
    {
     "data": {
      "text/plain": [
       "613"
      ]
     },
     "execution_count": 29,
     "metadata": {},
     "output_type": "execute_result"
    }
   ],
   "source": [
    "#The total number of paid reviews\n",
    "total_paid = len(vine_paid_df)\n",
    "total_paid"
   ]
  },
  {
   "cell_type": "markdown",
   "id": "498ad917",
   "metadata": {},
   "source": [
    "### There are 613, total paid reviews."
   ]
  },
  {
   "cell_type": "code",
   "execution_count": 23,
   "id": "d5dd3be5",
   "metadata": {
    "scrolled": true
   },
   "outputs": [
    {
     "data": {
      "text/html": [
       "<div>\n",
       "<style scoped>\n",
       "    .dataframe tbody tr th:only-of-type {\n",
       "        vertical-align: middle;\n",
       "    }\n",
       "\n",
       "    .dataframe tbody tr th {\n",
       "        vertical-align: top;\n",
       "    }\n",
       "\n",
       "    .dataframe thead th {\n",
       "        text-align: right;\n",
       "    }\n",
       "</style>\n",
       "<table border=\"1\" class=\"dataframe\">\n",
       "  <thead>\n",
       "    <tr style=\"text-align: right;\">\n",
       "      <th></th>\n",
       "      <th>review_id</th>\n",
       "      <th>star_rating</th>\n",
       "      <th>helpful_votes</th>\n",
       "      <th>total_votes</th>\n",
       "      <th>vine</th>\n",
       "      <th>verified_purchase</th>\n",
       "    </tr>\n",
       "  </thead>\n",
       "  <tbody>\n",
       "    <tr>\n",
       "      <th>23444</th>\n",
       "      <td>R6V9SHMMG5M8F</td>\n",
       "      <td>5.0</td>\n",
       "      <td>101.0</td>\n",
       "      <td>110.0</td>\n",
       "      <td>Y</td>\n",
       "      <td>N</td>\n",
       "    </tr>\n",
       "    <tr>\n",
       "      <th>193753</th>\n",
       "      <td>R3SRW1E8J56IGV</td>\n",
       "      <td>5.0</td>\n",
       "      <td>262.0</td>\n",
       "      <td>281.0</td>\n",
       "      <td>Y</td>\n",
       "      <td>N</td>\n",
       "    </tr>\n",
       "    <tr>\n",
       "      <th>229126</th>\n",
       "      <td>R2WBPX441TH495</td>\n",
       "      <td>5.0</td>\n",
       "      <td>202.0</td>\n",
       "      <td>221.0</td>\n",
       "      <td>Y</td>\n",
       "      <td>N</td>\n",
       "    </tr>\n",
       "    <tr>\n",
       "      <th>238470</th>\n",
       "      <td>R2BYBSYHS66ZN8</td>\n",
       "      <td>5.0</td>\n",
       "      <td>109.0</td>\n",
       "      <td>114.0</td>\n",
       "      <td>Y</td>\n",
       "      <td>N</td>\n",
       "    </tr>\n",
       "    <tr>\n",
       "      <th>261805</th>\n",
       "      <td>R2IXC6U7W4OCQ9</td>\n",
       "      <td>5.0</td>\n",
       "      <td>185.0</td>\n",
       "      <td>201.0</td>\n",
       "      <td>Y</td>\n",
       "      <td>N</td>\n",
       "    </tr>\n",
       "  </tbody>\n",
       "</table>\n",
       "</div>"
      ],
      "text/plain": [
       "             review_id  star_rating  helpful_votes  total_votes vine  \\\n",
       "23444    R6V9SHMMG5M8F          5.0          101.0        110.0    Y   \n",
       "193753  R3SRW1E8J56IGV          5.0          262.0        281.0    Y   \n",
       "229126  R2WBPX441TH495          5.0          202.0        221.0    Y   \n",
       "238470  R2BYBSYHS66ZN8          5.0          109.0        114.0    Y   \n",
       "261805  R2IXC6U7W4OCQ9          5.0          185.0        201.0    Y   \n",
       "\n",
       "       verified_purchase  \n",
       "23444                  N  \n",
       "193753                 N  \n",
       "229126                 N  \n",
       "238470                 N  \n",
       "261805                 N  "
      ]
     },
     "execution_count": 23,
     "metadata": {},
     "output_type": "execute_result"
    }
   ],
   "source": [
    "five_paid_df = vine_paid_df[vine_paid_df['star_rating'] == 5]\n",
    "five_paid_df.head()"
   ]
  },
  {
   "cell_type": "code",
   "execution_count": 31,
   "id": "b2df728c",
   "metadata": {},
   "outputs": [
    {
     "data": {
      "text/plain": [
       "222"
      ]
     },
     "execution_count": 31,
     "metadata": {},
     "output_type": "execute_result"
    }
   ],
   "source": [
    "total_five_star = len(five_paid_df)\n",
    "total_five_star"
   ]
  },
  {
   "cell_type": "markdown",
   "id": "927c1e0b",
   "metadata": {},
   "source": [
    "### There are 222, 5-star paid reviews."
   ]
  },
  {
   "cell_type": "code",
   "execution_count": 41,
   "id": "0f7be20f",
   "metadata": {},
   "outputs": [
    {
     "data": {
      "text/plain": [
       "0.3621533442088091"
      ]
     },
     "execution_count": 41,
     "metadata": {},
     "output_type": "execute_result"
    }
   ],
   "source": [
    "# percentage of paid 5-star reviews\n",
    "\n",
    "percent_5_star = total_five_star/total_paid\n",
    "percent_5_star"
   ]
  },
  {
   "cell_type": "markdown",
   "id": "e55b9de0",
   "metadata": {},
   "source": [
    "### 36% of the paid reviews are 5-star ratings"
   ]
  },
  {
   "cell_type": "markdown",
   "id": "2d14bb5f",
   "metadata": {},
   "source": [
    "## Unpaid"
   ]
  },
  {
   "cell_type": "code",
   "execution_count": 35,
   "id": "0154c0dc",
   "metadata": {},
   "outputs": [
    {
     "data": {
      "text/plain": [
       "64968"
      ]
     },
     "execution_count": 35,
     "metadata": {},
     "output_type": "execute_result"
    }
   ],
   "source": [
    "total_unpaid = len(vine_notPaid_df)\n",
    "total_unpaid"
   ]
  },
  {
   "cell_type": "markdown",
   "id": "4fb7debb",
   "metadata": {},
   "source": [
    "### There are 64,968, total unpaid reviews."
   ]
  },
  {
   "cell_type": "code",
   "execution_count": 36,
   "id": "ea36e195",
   "metadata": {},
   "outputs": [
    {
     "data": {
      "text/html": [
       "<div>\n",
       "<style scoped>\n",
       "    .dataframe tbody tr th:only-of-type {\n",
       "        vertical-align: middle;\n",
       "    }\n",
       "\n",
       "    .dataframe tbody tr th {\n",
       "        vertical-align: top;\n",
       "    }\n",
       "\n",
       "    .dataframe thead th {\n",
       "        text-align: right;\n",
       "    }\n",
       "</style>\n",
       "<table border=\"1\" class=\"dataframe\">\n",
       "  <thead>\n",
       "    <tr style=\"text-align: right;\">\n",
       "      <th></th>\n",
       "      <th>review_id</th>\n",
       "      <th>star_rating</th>\n",
       "      <th>helpful_votes</th>\n",
       "      <th>total_votes</th>\n",
       "      <th>vine</th>\n",
       "      <th>verified_purchase</th>\n",
       "    </tr>\n",
       "  </thead>\n",
       "  <tbody>\n",
       "    <tr>\n",
       "      <th>197</th>\n",
       "      <td>R13VL62Y2HBQ0B</td>\n",
       "      <td>5.0</td>\n",
       "      <td>15.0</td>\n",
       "      <td>21.0</td>\n",
       "      <td>N</td>\n",
       "      <td>Y</td>\n",
       "    </tr>\n",
       "    <tr>\n",
       "      <th>3007</th>\n",
       "      <td>R111DJA10Y6CMU</td>\n",
       "      <td>5.0</td>\n",
       "      <td>26.0</td>\n",
       "      <td>39.0</td>\n",
       "      <td>N</td>\n",
       "      <td>Y</td>\n",
       "    </tr>\n",
       "    <tr>\n",
       "      <th>3164</th>\n",
       "      <td>R2EE2TR4MRDV0U</td>\n",
       "      <td>5.0</td>\n",
       "      <td>53.0</td>\n",
       "      <td>59.0</td>\n",
       "      <td>N</td>\n",
       "      <td>Y</td>\n",
       "    </tr>\n",
       "    <tr>\n",
       "      <th>3368</th>\n",
       "      <td>RD4A80I5JDHED</td>\n",
       "      <td>5.0</td>\n",
       "      <td>69.0</td>\n",
       "      <td>77.0</td>\n",
       "      <td>N</td>\n",
       "      <td>N</td>\n",
       "    </tr>\n",
       "    <tr>\n",
       "      <th>5049</th>\n",
       "      <td>R1D3NR5GREEXXJ</td>\n",
       "      <td>5.0</td>\n",
       "      <td>57.0</td>\n",
       "      <td>58.0</td>\n",
       "      <td>N</td>\n",
       "      <td>Y</td>\n",
       "    </tr>\n",
       "  </tbody>\n",
       "</table>\n",
       "</div>"
      ],
      "text/plain": [
       "           review_id  star_rating  helpful_votes  total_votes vine  \\\n",
       "197   R13VL62Y2HBQ0B          5.0           15.0         21.0    N   \n",
       "3007  R111DJA10Y6CMU          5.0           26.0         39.0    N   \n",
       "3164  R2EE2TR4MRDV0U          5.0           53.0         59.0    N   \n",
       "3368   RD4A80I5JDHED          5.0           69.0         77.0    N   \n",
       "5049  R1D3NR5GREEXXJ          5.0           57.0         58.0    N   \n",
       "\n",
       "     verified_purchase  \n",
       "197                  Y  \n",
       "3007                 Y  \n",
       "3164                 Y  \n",
       "3368                 N  \n",
       "5049                 Y  "
      ]
     },
     "execution_count": 36,
     "metadata": {},
     "output_type": "execute_result"
    }
   ],
   "source": [
    "five_unpaid_df = vine_notPaid_df[vine_notPaid_df['star_rating'] == 5]\n",
    "five_unpaid_df.head()"
   ]
  },
  {
   "cell_type": "code",
   "execution_count": 38,
   "id": "95b31ac4",
   "metadata": {},
   "outputs": [
    {
     "data": {
      "text/plain": [
       "30543"
      ]
     },
     "execution_count": 38,
     "metadata": {},
     "output_type": "execute_result"
    }
   ],
   "source": [
    "total_five_star_unpaid = len(five_unpaid_df)\n",
    "total_five_star_unpaid"
   ]
  },
  {
   "cell_type": "markdown",
   "id": "1cf8e640",
   "metadata": {},
   "source": [
    "### There are 30,543, 5-star reviews that are unpaid."
   ]
  },
  {
   "cell_type": "code",
   "execution_count": 39,
   "id": "4d909c53",
   "metadata": {},
   "outputs": [
    {
     "data": {
      "text/plain": [
       "0.47012375323236055"
      ]
     },
     "execution_count": 39,
     "metadata": {},
     "output_type": "execute_result"
    }
   ],
   "source": [
    "percent_5_star_unpaid = (total_five_star_unpaid /total_unpaid)\n",
    "percent_5_star_unpaid"
   ]
  },
  {
   "cell_type": "markdown",
   "id": "a56f6667",
   "metadata": {},
   "source": [
    "### 47% of the unpaid reviews are 5-star ratings"
   ]
  },
  {
   "cell_type": "code",
   "execution_count": null,
   "id": "230a18c4",
   "metadata": {},
   "outputs": [],
   "source": []
  }
 ],
 "metadata": {
  "kernelspec": {
   "display_name": "Python 3 (ipykernel)",
   "language": "python",
   "name": "python3"
  },
  "language_info": {
   "codemirror_mode": {
    "name": "ipython",
    "version": 3
   },
   "file_extension": ".py",
   "mimetype": "text/x-python",
   "name": "python",
   "nbconvert_exporter": "python",
   "pygments_lexer": "ipython3",
   "version": "3.9.12"
  }
 },
 "nbformat": 4,
 "nbformat_minor": 5
}
